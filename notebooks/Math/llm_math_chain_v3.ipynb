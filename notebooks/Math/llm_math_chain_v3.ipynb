{
 "cells": [
  {
   "cell_type": "code",
   "execution_count": 4,
   "metadata": {},
   "outputs": [
    {
     "name": "stderr",
     "output_type": "stream",
     "text": [
      "/Users/charanahu/VS_Code/EMEA/TAG_fintechx/venv/lib/python3.11/site-packages/tqdm/auto.py:21: TqdmWarning: IProgress not found. Please update jupyter and ipywidgets. See https://ipywidgets.readthedocs.io/en/stable/user_install.html\n",
      "  from .autonotebook import tqdm as notebook_tqdm\n"
     ]
    }
   ],
   "source": [
    "from langchain import LLMMathChain\n",
    "from langchain_experimental.pal_chain import PALChain\n",
    "from langchain_experimental.cpal.base import CPALChain\n",
    "import os\n",
    "from dotenv import load_dotenv\n",
    "import os\n",
    "\n",
    "from genai.extensions.langchain import LangChainInterface\n",
    "from genai.schemas import GenerateParams\n",
    "from genai.credentials import Credentials"
   ]
  },
  {
   "cell_type": "code",
   "execution_count": 17,
   "metadata": {},
   "outputs": [],
   "source": [
    "load_dotenv()\n",
    "api_key = os.getenv(\"GENAI_KEY\", None)\n",
    "api_url = os.getenv(\"GENAI_API\", None)\n",
    "creds = Credentials(api_key, api_endpoint=api_url)\n",
    "model_id = \"meta-llama/llama-2-70b-chat\"\n",
    "params = GenerateParams(\n",
    "    decoding_method=\"greedy\",\n",
    "    max_new_tokens=1024,\n",
    "    min_new_tokens=100,\n",
    "    temperature=0.1,\n",
    ")\n",
    "model = LangChainInterface(model=model_id, params=params, credentials=creds)"
   ]
  },
  {
   "cell_type": "code",
   "execution_count": 24,
   "metadata": {},
   "outputs": [],
   "source": [
    "cpal_chain = CPALChain.from_univariate_prompt(llm=model, verbose=True)"
   ]
  },
  {
   "cell_type": "code",
   "execution_count": 25,
   "metadata": {},
   "outputs": [],
   "source": [
    "pal_chain = PALChain.from_math_prompt(llm=model, verbose=True)"
   ]
  },
  {
   "cell_type": "code",
   "execution_count": 26,
   "metadata": {},
   "outputs": [],
   "source": [
    "question = (\n",
    "\"Tim buys the same number of pets as Cindy and Boris.\"  # tim = 2\n",
    "\"Cindy buys the same number of pets as Bill plus Bob.\" # cindy = 1 + 1 = 2\n",
    "\"Boris buys the same number of pets as Ben plus Beth.\" # boris = 1 + 1 = 2\n",
    "\"Bill buys the same number of pets as Obama.\" # bill = 1\n",
    "\"Bob buys the same number of pets as Obama.\"  # bob = 1\n",
    "\"Ben buys the same number of pets as Obama.\"  # ben = 1\n",
    "\"Beth buys the same number of pets as Obama.\"  # beth = 1 \n",
    "\"If Obama buys one pet, how many pets total does everyone buy?\"    # obama =1\n",
    ")"
   ]
  },
  {
   "cell_type": "code",
   "execution_count": 27,
   "metadata": {},
   "outputs": [
    {
     "name": "stdout",
     "output_type": "stream",
     "text": [
      "\n",
      "\n",
      "\u001b[1m> Entering new PALChain chain...\u001b[0m\n",
      "\u001b[32;1m\u001b[1;3mdef solution():\n",
      "    \"\"\"Tim buys the same number of pets as Cindy and Boris.Cindy buys the same number of pets as Bill plus Bob.Boris buys the same number of pets as Ben plus Beth.Bill buys the same number of pets as Obama.Bob buys the same number of pets as Obama.Ben buys the same number of pets as Obama.Beth buys the same number of pets as Obama.If Obama buys one pet, how many pets total does everyone buy?\"\"\"\n",
      "    obama_pets = 1\n",
      "    bill_pets = obama_pets\n",
      "    bob_pets = obama_pets\n",
      "    ben_pets = obama_pets\n",
      "    beth_pets = obama_pets\n",
      "    cindy_pets = bill_pets + bob_pets\n",
      "    boris_pets = ben_pets + beth_pets\n",
      "    tim_pets = cindy_pets\n",
      "    total_pets = obama_pets + bill_pets + bob_pets + ben_pets + beth_pets + cindy_pets + boris_pets + tim_pets\n",
      "    result = total_pets\n",
      "    return result\n",
      "\n",
      "\u001b[0m\n",
      "\n",
      "\u001b[1m> Finished chain.\u001b[0m\n"
     ]
    },
    {
     "data": {
      "text/plain": [
       "'11'"
      ]
     },
     "execution_count": 27,
     "metadata": {},
     "output_type": "execute_result"
    }
   ],
   "source": [
    "pal_chain.run(question)"
   ]
  },
  {
   "cell_type": "code",
   "execution_count": 28,
   "metadata": {},
   "outputs": [],
   "source": [
    "question_2 = ('''\n",
    "<SOURCE>\n",
    "I have below information,\n",
    "Offices for rent, Lund, Stora Södergatan 8 c\n",
    "Facts:\n",
    "Type of premises:Office\n",
    "Size:100 m2\n",
    "Rent per year excl. operation: 379,200 SEK.\n",
    "Rent per month excl. operation: 31,600 SEK.\n",
    "Rent per m2 per year, excl. operation: SEK 3.79.\n",
    "Information and data:\n",
    "This office for rent is located on Stora Södergatan in Lund. Lund has postal code 22223, and is located in the municipality which is in Skåne. The premises are 100 m2 in total. This office for rent was established on our service on 28.10.2021, but may have been deactivated and later activated again. You can rent this office space for 379,200 kr. per year.\n",
    "</SOURCE>\n",
    "              \n",
    "<RULES>\n",
    "and, i have below metric and its description,\n",
    "Rental Income:\n",
    "Description: This provides a specific example of the income generated per square meter. The total rental income can be calculated by multiplying this rate with the total leased area The most recent lease, with the Swedish Police Authority for 315 m², has a rental rate of approximately 2,800 SEK/m².\n",
    "Target 2023: 1,984,000 SEK\n",
    "</RULES>\n",
    "              \n",
    "<INSTRUCTION>\n",
    "Now, I want to derive the metric value from the above given information keeping the metric description in to the consideration and return the deviation between the derived value and the target value provided\n",
    "</INSTRUCTION>\n",
    "              \n",
    "<ANSWER>\n",
    "''')"
   ]
  },
  {
   "cell_type": "code",
   "execution_count": 32,
   "metadata": {},
   "outputs": [
    {
     "name": "stdout",
     "output_type": "stream",
     "text": [
      "To derive the metric value, we need to calculate the rental income per square meter based on the given information.\n",
      "\n",
      "Rental income per square meter = Rent per year excl. operation / Total leased area\n",
      "\n",
      "Using the given information, we have:\n",
      "\n",
      "Rent per year excl. operation = 379,200 SEK\n",
      "Total leased area = 100 m2\n",
      "\n",
      "Therefore,\n",
      "Rental income per square meter = 379,200 SEK / 100 m2 = 3,792 SEK/m²\n",
      "\n",
      "Now, we can calculate the total rental income for the entire office space:\n",
      "Total rental income = Rental income per square meter x Total leased area\n",
      "Total rental income = 3,792 SEK/m² x 100 m² = 379,200 SEK\n",
      "\n",
      "Deviation from target value:\n",
      "The target value for rental income in 2023 is 1,984,000 SEK.\n",
      "The derived value for rental income based on the given information is 379,200 SEK.\n",
      "Therefore, the deviation from the target value is:\n",
      "Deviation = Target value - Derived value\n",
      "Deviation = 1,984,000 SEK - 379,200 SEK = 1,604,800 SEK\n",
      "\n",
      "So, the deviation between the derived value and the target value is 1,604,800 SEK.\n"
     ]
    }
   ],
   "source": [
    "print(model(question_2))"
   ]
  },
  {
   "cell_type": "code",
   "execution_count": null,
   "metadata": {},
   "outputs": [],
   "source": []
  },
  {
   "cell_type": "code",
   "execution_count": null,
   "metadata": {},
   "outputs": [],
   "source": []
  },
  {
   "cell_type": "code",
   "execution_count": null,
   "metadata": {},
   "outputs": [],
   "source": []
  }
 ],
 "metadata": {
  "kernelspec": {
   "display_name": "venv",
   "language": "python",
   "name": "python3"
  },
  "language_info": {
   "codemirror_mode": {
    "name": "ipython",
    "version": 3
   },
   "file_extension": ".py",
   "mimetype": "text/x-python",
   "name": "python",
   "nbconvert_exporter": "python",
   "pygments_lexer": "ipython3",
   "version": "3.11.4"
  }
 },
 "nbformat": 4,
 "nbformat_minor": 2
}
