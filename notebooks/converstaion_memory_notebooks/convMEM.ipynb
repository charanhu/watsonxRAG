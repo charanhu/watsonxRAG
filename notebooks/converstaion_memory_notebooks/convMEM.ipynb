{
 "cells": [
  {
   "cell_type": "code",
   "execution_count": 1,
   "metadata": {},
   "outputs": [],
   "source": [
    "# Import Libraries\n",
    "import os\n",
    "from dotenv import load_dotenv\n",
    "\n",
    "from genai.extensions.langchain import LangChainInterface\n",
    "from genai.schemas import GenerateParams\n",
    "from genai.credentials import Credentials\n",
    "from langchain.chains import ConversationChain\n",
    "from langchain.memory import ConversationBufferMemory\n",
    "from langchain.prompts.prompt import PromptTemplate"
   ]
  },
  {
   "cell_type": "code",
   "execution_count": 2,
   "metadata": {},
   "outputs": [],
   "source": [
    "load_dotenv()\n",
    "# Get the API key and URL from the environment variables\n",
    "api_key = os.getenv(\"GENAI_KEY\", None)\n",
    "api_url = os.getenv(\"GENAI_API\", None)\n",
    "# Create a Credentials object to pass to the LangChainInterface\n",
    "creds = Credentials(api_key, api_endpoint=api_url)"
   ]
  },
  {
   "cell_type": "code",
   "execution_count": 3,
   "metadata": {},
   "outputs": [],
   "source": [
    "# Create a GenerateParams object to pass to the LangChainInterface\n",
    "params = GenerateParams(\n",
    "            decoding_method=\"greedy\",\n",
    "            max_new_tokens=500,\n",
    "            min_new_tokens=50,\n",
    "            temperature=1,\n",
    "            stop_sequences=[\"Friend:\"],\n",
    "        )"
   ]
  },
  {
   "cell_type": "code",
   "execution_count": 4,
   "metadata": {},
   "outputs": [],
   "source": [
    "# Create a LangChainInterface object to use for generating text\n",
    "llm = LangChainInterface(model=\"meta-llama/llama-2-70b-chat\", params=params, credentials=creds)"
   ]
  },
  {
   "cell_type": "code",
   "execution_count": 5,
   "metadata": {},
   "outputs": [],
   "source": [
    "context = '''['Age': '44 years old', 'Average spend': 'Each transaction costs approximately 11.79 €.', 'Buying preferences': 'Michael seems to prioritize meats among other things including fancy stuff and potentially some nice bottles of wine.', 'Complaining': 'Michael hardly ever voices grievances.', 'Discounts use': 'Michael takes advantage of discount opportunities often, which accounts for nearly 35 percent of his overall purchases.', 'Does the person have kids': 'Mike has one child, a baby boy.', 'Inclination towards campaigns': \"Advertisement campains aren't very appealing to Michael.\", 'Income per year': 'Michale earns between 22678.75 € and 27007.25 €.', 'Name': 'Michael', 'Number of annual purchases': 'On avarage, Michael places around five orders throughout the course of a single year.', 'Occupation': 'Supervisor at meat factory', 'Shopping channel': 'Most of the time, Michael goes out to physically visit a store whenever he wants to add something new to his collection.', 'Total spend': 'So far, Michael has spent a grand total of 50.00 €.']'''"
   ]
  },
  {
   "cell_type": "code",
   "execution_count": 14,
   "metadata": {},
   "outputs": [],
   "source": [
    "# Now we can override it and set it to \"Friend\"\n",
    "\n",
    "template_1 = f\"\"\"You are a helpful Furniture Company Chatbot. Ready to assist with any questions or preferences you have about furniture. Feel free to engage in a conversation or ask for information.\n",
    "\n",
    "Context:\n",
    "{context}\n",
    "\"\"\"\n"
   ]
  },
  {
   "cell_type": "code",
   "execution_count": 15,
   "metadata": {},
   "outputs": [
    {
     "data": {
      "text/plain": [
       "'You are a helpful Furniture Company Chatbot. Ready to assist with any questions or preferences you have about furniture. Feel free to engage in a conversation or ask for information.\\n\\nContext:\\n[\\'Age\\': \\'44 years old\\', \\'Average spend\\': \\'Each transaction costs approximately 11.79 €.\\', \\'Buying preferences\\': \\'Michael seems to prioritize meats among other things including fancy stuff and potentially some nice bottles of wine.\\', \\'Complaining\\': \\'Michael hardly ever voices grievances.\\', \\'Discounts use\\': \\'Michael takes advantage of discount opportunities often, which accounts for nearly 35 percent of his overall purchases.\\', \\'Does the person have kids\\': \\'Mike has one child, a baby boy.\\', \\'Inclination towards campaigns\\': \"Advertisement campains aren\\'t very appealing to Michael.\", \\'Income per year\\': \\'Michale earns between 22678.75 € and 27007.25 €.\\', \\'Name\\': \\'Michael\\', \\'Number of annual purchases\\': \\'On avarage, Michael places around five orders throughout the course of a single year.\\', \\'Occupation\\': \\'Supervisor at meat factory\\', \\'Shopping channel\\': \\'Most of the time, Michael goes out to physically visit a store whenever he wants to add something new to his collection.\\', \\'Total spend\\': \\'So far, Michael has spent a grand total of 50.00 €.\\']\\n'"
      ]
     },
     "execution_count": 15,
     "metadata": {},
     "output_type": "execute_result"
    }
   ],
   "source": [
    "template_1.format(context=context)"
   ]
  },
  {
   "cell_type": "code",
   "execution_count": 16,
   "metadata": {},
   "outputs": [],
   "source": [
    "template_2 = \"\"\"\n",
    "Current conversation:\n",
    "{history}\n",
    "Friend: {input}\n",
    "AI:\"\"\""
   ]
  },
  {
   "cell_type": "code",
   "execution_count": 17,
   "metadata": {},
   "outputs": [],
   "source": [
    "template = template_1+template_2"
   ]
  },
  {
   "cell_type": "code",
   "execution_count": 18,
   "metadata": {},
   "outputs": [
    {
     "name": "stdout",
     "output_type": "stream",
     "text": [
      "You are a helpful Furniture Company Chatbot. Ready to assist with any questions or preferences you have about furniture. Feel free to engage in a conversation or ask for information.\n",
      "\n",
      "Context:\n",
      "['Age': '44 years old', 'Average spend': 'Each transaction costs approximately 11.79 €.', 'Buying preferences': 'Michael seems to prioritize meats among other things including fancy stuff and potentially some nice bottles of wine.', 'Complaining': 'Michael hardly ever voices grievances.', 'Discounts use': 'Michael takes advantage of discount opportunities often, which accounts for nearly 35 percent of his overall purchases.', 'Does the person have kids': 'Mike has one child, a baby boy.', 'Inclination towards campaigns': \"Advertisement campains aren't very appealing to Michael.\", 'Income per year': 'Michale earns between 22678.75 € and 27007.25 €.', 'Name': 'Michael', 'Number of annual purchases': 'On avarage, Michael places around five orders throughout the course of a single year.', 'Occupation': 'Supervisor at meat factory', 'Shopping channel': 'Most of the time, Michael goes out to physically visit a store whenever he wants to add something new to his collection.', 'Total spend': 'So far, Michael has spent a grand total of 50.00 €.']\n",
      "\n",
      "Current conversation:\n",
      "{history}\n",
      "Friend: {input}\n",
      "AI:\n"
     ]
    }
   ],
   "source": [
    "print(template)"
   ]
  },
  {
   "cell_type": "code",
   "execution_count": 19,
   "metadata": {},
   "outputs": [],
   "source": [
    "PROMPT = PromptTemplate(input_variables=[\"history\", \"input\"], template=template)"
   ]
  },
  {
   "cell_type": "code",
   "execution_count": 20,
   "metadata": {},
   "outputs": [],
   "source": [
    "conversation = ConversationChain(\n",
    "    prompt=PROMPT,\n",
    "    llm=llm,\n",
    "    verbose=True,\n",
    "    memory=ConversationBufferMemory(human_prefix=\"Friend\"),\n",
    ")"
   ]
  },
  {
   "cell_type": "code",
   "execution_count": 22,
   "metadata": {},
   "outputs": [
    {
     "name": "stdout",
     "output_type": "stream",
     "text": [
      "\n",
      "\n",
      "\u001b[1m> Entering new ConversationChain chain...\u001b[0m\n",
      "Prompt after formatting:\n",
      "\u001b[32;1m\u001b[1;3mYou are a helpful Furniture Company Chatbot. Ready to assist with any questions or preferences you have about furniture. Feel free to engage in a conversation or ask for information.\n",
      "\n",
      "Context:\n",
      "['Age': '44 years old', 'Average spend': 'Each transaction costs approximately 11.79 €.', 'Buying preferences': 'Michael seems to prioritize meats among other things including fancy stuff and potentially some nice bottles of wine.', 'Complaining': 'Michael hardly ever voices grievances.', 'Discounts use': 'Michael takes advantage of discount opportunities often, which accounts for nearly 35 percent of his overall purchases.', 'Does the person have kids': 'Mike has one child, a baby boy.', 'Inclination towards campaigns': \"Advertisement campains aren't very appealing to Michael.\", 'Income per year': 'Michale earns between 22678.75 € and 27007.25 €.', 'Name': 'Michael', 'Number of annual purchases': 'On avarage, Michael places around five orders throughout the course of a single year.', 'Occupation': 'Supervisor at meat factory', 'Shopping channel': 'Most of the time, Michael goes out to physically visit a store whenever he wants to add something new to his collection.', 'Total spend': 'So far, Michael has spent a grand total of 50.00 €.']\n",
      "\n",
      "Current conversation:\n",
      "Friend: Do you prefer second-hand or new furniture?\n",
      "AI:  Hi there! I'm happy to help you with your furniture needs. Based on your previous purchases and preferences, I would recommend new furniture for you. You seem to prioritize quality and durability, and new furniture would be a better fit for that. Additionally, you've been taking advantage of discount opportunities often, which suggests you're looking for value for your money. New furniture would likely provide you with the best balance of quality and affordability. How about we check out some new furniture options together?\n",
      "Friend: Do you prefer to buy online or in store ?\n",
      "AI:\u001b[0m\n",
      "\n",
      "\u001b[1m> Finished chain.\u001b[0m\n"
     ]
    },
    {
     "data": {
      "text/plain": [
       "\"  Great question! Based on your shopping habits, it seems like you prefer to physically visit a store when you want to add something new to your collection. You've mentioned that you enjoy the tactile experience of shopping in person, and you've also expressed a preference for seeing and touching the products before making a purchase. With that in mind, I would recommend checking out some physical stores in your area that carry the type of furniture you're interested in. Would you like me to provide you with some recommendations for stores in your area?\""
      ]
     },
     "execution_count": 22,
     "metadata": {},
     "output_type": "execute_result"
    }
   ],
   "source": [
    "query = \"Do you prefer to buy online or in store ?\"\n",
    "conversation.predict(input=query)"
   ]
  },
  {
   "cell_type": "code",
   "execution_count": null,
   "metadata": {},
   "outputs": [],
   "source": []
  }
 ],
 "metadata": {
  "kernelspec": {
   "display_name": "venv",
   "language": "python",
   "name": "python3"
  },
  "language_info": {
   "codemirror_mode": {
    "name": "ipython",
    "version": 3
   },
   "file_extension": ".py",
   "mimetype": "text/x-python",
   "name": "python",
   "nbconvert_exporter": "python",
   "pygments_lexer": "ipython3",
   "version": "3.11.4"
  }
 },
 "nbformat": 4,
 "nbformat_minor": 2
}
